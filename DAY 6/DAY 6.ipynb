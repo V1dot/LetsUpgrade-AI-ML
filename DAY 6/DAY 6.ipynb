{
 "cells": [
  {
   "cell_type": "code",
   "execution_count": 1,
   "metadata": {},
   "outputs": [],
   "source": [
    "#Assuming that we have some email addresses in the \"username@companyname.com\" format,\n",
    "#please write program to print the company name of a given email address.\n",
    "#Both user names and company names are composed of letters only.\n",
    "#Input Format:\n",
    "#The first line of the input contains an email address. Output Format:\n",
    "#Print the company name in single line.\n",
    "#Example;\n",
    "#Input:\n",
    "#john@google.com\n",
    "#Output:\n",
    "#google"
   ]
  },
  {
   "cell_type": "code",
   "execution_count": 8,
   "metadata": {},
   "outputs": [
    {
     "name": "stdout",
     "output_type": "stream",
     "text": [
      "Enter the email\n",
      "john@google.com\n",
      "Output: google\n"
     ]
    }
   ],
   "source": [
    "print('Enter the email')\n",
    "e = str(input())\n",
    "e = e.split('@')\n",
    "o = e[1].split('.')\n",
    "print('Output:', o[0])"
   ]
  },
  {
   "cell_type": "code",
   "execution_count": 9,
   "metadata": {},
   "outputs": [],
   "source": [
    "#Write a program that accepts a comma-separated sequence of words as input \n",
    "#and prints the words in a comma separated sequence after sorting them alphabetically.\n",
    "\n",
    "#Input Format:\n",
    "#The first line of input contains words separated by the comma. \n",
    "#Output Format:\n",
    "#Print the sorted words separated by the comma.\n",
    "#Example:\n",
    "#Input:\n",
    "#without,hello,bag,world\n",
    "#Output:\n",
    "#bag,hello,without,world"
   ]
  },
  {
   "cell_type": "code",
   "execution_count": 15,
   "metadata": {},
   "outputs": [
    {
     "name": "stdout",
     "output_type": "stream",
     "text": [
      "enter input : without,hello,bag,world\n",
      "Output : bag,hello,without,world\n"
     ]
    }
   ],
   "source": [
    "items=[x for x in input(\"enter input : \").split(',')]\n",
    "items.sort()\n",
    "print (\"Output :\",','.join(items))"
   ]
  },
  {
   "cell_type": "code",
   "execution_count": 16,
   "metadata": {},
   "outputs": [],
   "source": [
    "#Given a list of n-1 numbers ranging from 1 to n, your task is to find the missing number.\n",
    "#There are no duplicates.\n",
    "\n",
    "#Input Format:\n",
    "#The first line contains n-1 numbers with each number separated by a space. \n",
    "#Output Format:\n",
    "#Print the missing number\n",
    "\n",
    "#Example:\n",
    "#Input:1 2 4 6 3 7 8\n",
    "#Output:5\n",
    "#Explanation:\n",
    "#In the above list of numbers 5 is missing and hence 5 is the input\n"
   ]
  },
  {
   "cell_type": "code",
   "execution_count": 21,
   "metadata": {},
   "outputs": [
    {
     "name": "stdout",
     "output_type": "stream",
     "text": [
      "9\n"
     ]
    }
   ],
   "source": [
    "l =[1,2,4,6,3,7,8,5,10,11]\n",
    "l.sort()\n",
    "for i in range(1,max(l)):\n",
    "    if i not in l:\n",
    "        print(i)"
   ]
  },
  {
   "cell_type": "markdown",
   "metadata": {},
   "source": []
  },
  {
   "cell_type": "code",
   "execution_count": 22,
   "metadata": {},
   "outputs": [],
   "source": [
    "#With a given list L, write a program to print this list L \n",
    "#after removing all duplicate values with original order reserved.\n",
    "\n",
    "#Example:\n",
    "#If the input list is\n",
    "#12 24 35 24 88 120 155 88 120 155\n",
    "#Then the output should be 12 24 35 88 120 155\n",
    "\n",
    "#Explanation:\n",
    "#Third, seventh and ninth element of the list L has been removed because it was already present. Input Format:\n",
    "#In one line take the elements of the list L with each element separated by a space.\n",
    "\n",
    "#Output Format:\n",
    "#Print the elements of the modified list in one line with each element separated by a space. Example:\n",
    "\n",
    "#Input: 12 24 35 24\n",
    "#Output:\n",
    "#12 24 35\n"
   ]
  },
  {
   "cell_type": "code",
   "execution_count": 54,
   "metadata": {
    "scrolled": true
   },
   "outputs": [
    {
     "name": "stdout",
     "output_type": "stream",
     "text": [
      "[12, 24, 35, 88, 120, 155]\n"
     ]
    }
   ],
   "source": [
    "L = [12,24,35,24,88,120,155,88,120,155]\n",
    "O = list(set(L))\n",
    "O.sort()\n",
    "print(O)"
   ]
  },
  {
   "cell_type": "code",
   "execution_count": null,
   "metadata": {},
   "outputs": [],
   "source": []
  }
 ],
 "metadata": {
  "kernelspec": {
   "display_name": "Python 3",
   "language": "python",
   "name": "python3"
  },
  "language_info": {
   "codemirror_mode": {
    "name": "ipython",
    "version": 3
   },
   "file_extension": ".py",
   "mimetype": "text/x-python",
   "name": "python",
   "nbconvert_exporter": "python",
   "pygments_lexer": "ipython3",
   "version": "3.7.3"
  }
 },
 "nbformat": 4,
 "nbformat_minor": 2
}
