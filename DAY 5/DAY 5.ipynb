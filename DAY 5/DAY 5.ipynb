{
 "cells": [
  {
   "cell_type": "code",
   "execution_count": 1,
   "metadata": {},
   "outputs": [],
   "source": [
    "#Write a Python program to find the first 20 non-even prime natural numbers.\n"
   ]
  },
  {
   "cell_type": "code",
   "execution_count": 33,
   "metadata": {},
   "outputs": [
    {
     "name": "stdout",
     "output_type": "stream",
     "text": [
      "First 20 non even natural prime numbers are\n",
      "3\n",
      "5\n",
      "7\n",
      "11\n",
      "13\n",
      "17\n",
      "19\n",
      "23\n",
      "29\n",
      "31\n",
      "37\n",
      "41\n",
      "43\n",
      "47\n",
      "53\n",
      "59\n",
      "61\n",
      "67\n",
      "71\n",
      "73\n"
     ]
    }
   ],
   "source": [
    "c=0\n",
    "print(\"First 20 non even natural prime numbers are\")\n",
    "for num in range(1,1000):\n",
    "    if c<20:\n",
    "        for i in range(2, num):\n",
    "            if num % i == 0:\n",
    "                break\n",
    "            elif i>(num//2):\n",
    "                print(num)\n",
    "                c=c+1\n",
    "                break\n",
    "            elif i<(num//2):\n",
    "                continue"
   ]
  },
  {
   "cell_type": "code",
   "execution_count": 29,
   "metadata": {},
   "outputs": [
    {
     "data": {
      "text/plain": [
       "20"
      ]
     },
     "execution_count": 29,
     "metadata": {},
     "output_type": "execute_result"
    }
   ],
   "source": [
    "c"
   ]
  },
  {
   "cell_type": "code",
   "execution_count": 4,
   "metadata": {},
   "outputs": [],
   "source": [
    "#Write a Python program to implement 15 functions of string."
   ]
  },
  {
   "cell_type": "code",
   "execution_count": 24,
   "metadata": {},
   "outputs": [
    {
     "name": "stdout",
     "output_type": "stream",
     "text": [
      "Hi BEautiful    Artificial Intelligence\n",
      "hI beAUTIFUL\n",
      "    artificial intelligence\n",
      "    ARTIFICIAL INTELLIGENCE\n",
      "False\n",
      "    Artificiaz Intezzigence\n",
      "12\n",
      "-1\n",
      "-1\n",
      "False\n",
      "['Hi BEa', 'tif', 'l']\n",
      "True\n",
      "Artificial Intelligence\n",
      "False\n",
      "5\n"
     ]
    }
   ],
   "source": [
    "a = \"Hi BEautiful\"\n",
    "b = \"    Artificial Intelligence\"\n",
    "print(a+b)\n",
    "print(a.swapcase())\n",
    "print(b.lower())\n",
    "print(b.upper())\n",
    "print(a.isalpha())\n",
    "print(b.replace('l','z'))\n",
    "print(len(a))\n",
    "print(a.find('W'))\n",
    "print(b.find('o',5,8))\n",
    "print(a.isnumeric())\n",
    "print(a.split('u'))\n",
    "print(b.isprintable())\n",
    "print(b.lstrip())\n",
    "print(a.isspace())\n",
    "print(a.rfind('a'))"
   ]
  },
  {
   "cell_type": "code",
   "execution_count": 6,
   "metadata": {},
   "outputs": [],
   "source": [
    "#Write a Python program to check if the given string is a Palindrome or Anagram or None of them. Display the message accordingly to the user."
   ]
  },
  {
   "cell_type": "code",
   "execution_count": 7,
   "metadata": {
    "scrolled": true
   },
   "outputs": [
    {
     "name": "stdout",
     "output_type": "stream",
     "text": [
      "Input String\n",
      "malayalam\n",
      "malayalam is a palindrome\n"
     ]
    }
   ],
   "source": [
    "print(\"Input String\")\n",
    "a = str(input())\n",
    "b = a[::-1]\n",
    "if (a==b):\n",
    "    print(a ,\"is a palindrome\")\n",
    "else:\n",
    "    print(a,\"is not a palindrome\")"
   ]
  },
  {
   "cell_type": "code",
   "execution_count": 8,
   "metadata": {},
   "outputs": [
    {
     "name": "stdout",
     "output_type": "stream",
     "text": [
      "Enter the string 1 : earth\n",
      "Enter the string 2 : heart\n",
      "earth is a anogram\n"
     ]
    }
   ],
   "source": [
    "\n",
    "str1 = input(\"Enter the string 1 : \")\n",
    "str2 = input(\"Enter the string 2 : \")\n",
    "if (sorted(str1)==sorted(str2)):\n",
    "    print(str1 ,\"is a anogram\")\n",
    "else:\n",
    "    print(str1,\"is not a anogram\")\n"
   ]
  },
  {
   "cell_type": "code",
   "execution_count": 9,
   "metadata": {},
   "outputs": [],
   "source": [
    "#Write a Python's user defined function that removes all the additional characters from the string and\n",
    "#converts it finally to lower case using built-in lower(). eg: If the string is \"Dr. Darshan Ingle @AI-ML Trainer\",\n",
    "#then the output be \"drdarshaningleaimltrainer\"."
   ]
  },
  {
   "cell_type": "code",
   "execution_count": 10,
   "metadata": {},
   "outputs": [],
   "source": [
    "def func(var):\n",
    "    add_char = ['.','@','-']\n",
    "    for i in add_char:\n",
    "        var = var.replace(i,\"\")\n",
    "        \n",
    "    var = var.replace(\" \",\"\")\n",
    "    var = var.lower()\n",
    "    print(var)"
   ]
  },
  {
   "cell_type": "code",
   "execution_count": 11,
   "metadata": {},
   "outputs": [
    {
     "name": "stdout",
     "output_type": "stream",
     "text": [
      "drdarshaningleaimltrainer\n"
     ]
    }
   ],
   "source": [
    "func(\"Dr. Darshan Ingle @AI-ML Trainer\")"
   ]
  },
  {
   "cell_type": "code",
   "execution_count": 34,
   "metadata": {},
   "outputs": [],
   "source": [
    "for i in range(2,2):\n",
    "    print(i)"
   ]
  },
  {
   "cell_type": "code",
   "execution_count": null,
   "metadata": {},
   "outputs": [],
   "source": []
  }
 ],
 "metadata": {
  "kernelspec": {
   "display_name": "Python 3",
   "language": "python",
   "name": "python3"
  },
  "language_info": {
   "codemirror_mode": {
    "name": "ipython",
    "version": 3
   },
   "file_extension": ".py",
   "mimetype": "text/x-python",
   "name": "python",
   "nbconvert_exporter": "python",
   "pygments_lexer": "ipython3",
   "version": "3.7.3"
  }
 },
 "nbformat": 4,
 "nbformat_minor": 2
}
